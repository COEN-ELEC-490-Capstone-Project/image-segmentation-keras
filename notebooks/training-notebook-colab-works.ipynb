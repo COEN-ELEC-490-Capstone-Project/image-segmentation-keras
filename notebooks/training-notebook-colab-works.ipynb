{
  "nbformat": 4,
  "nbformat_minor": 0,
  "metadata": {
    "colab": {
      "name": "Untitled0.ipynb",
      "provenance": []
    },
    "kernelspec": {
      "name": "python3",
      "display_name": "Python 3"
    },
    "language_info": {
      "name": "python"
    },
    "accelerator": "GPU",
    "widgets": {
      "application/vnd.jupyter.widget-state+json": {
        "45828c1755bc4a7580522ebd418298fd": {
          "model_module": "@jupyter-widgets/controls",
          "model_name": "HBoxModel",
          "model_module_version": "1.5.0",
          "state": {
            "_view_name": "HBoxView",
            "_dom_classes": [],
            "_model_name": "HBoxModel",
            "_view_module": "@jupyter-widgets/controls",
            "_model_module_version": "1.5.0",
            "_view_count": null,
            "_view_module_version": "1.5.0",
            "box_style": "",
            "layout": "IPY_MODEL_a0d1ea4f2fbc442997aa3ce4ea04b41f",
            "_model_module": "@jupyter-widgets/controls",
            "children": [
              "IPY_MODEL_a94b13bb6c5243a480c9d16b4dda9bab",
              "IPY_MODEL_3989304743ac42fa9d2c27eb2595e1cf",
              "IPY_MODEL_0447004474a04693923282649e8ca1cd"
            ]
          }
        },
        "a0d1ea4f2fbc442997aa3ce4ea04b41f": {
          "model_module": "@jupyter-widgets/base",
          "model_name": "LayoutModel",
          "model_module_version": "1.2.0",
          "state": {
            "_view_name": "LayoutView",
            "grid_template_rows": null,
            "right": null,
            "justify_content": null,
            "_view_module": "@jupyter-widgets/base",
            "overflow": null,
            "_model_module_version": "1.2.0",
            "_view_count": null,
            "flex_flow": null,
            "width": null,
            "min_width": null,
            "border": null,
            "align_items": null,
            "bottom": null,
            "_model_module": "@jupyter-widgets/base",
            "top": null,
            "grid_column": null,
            "overflow_y": null,
            "overflow_x": null,
            "grid_auto_flow": null,
            "grid_area": null,
            "grid_template_columns": null,
            "flex": null,
            "_model_name": "LayoutModel",
            "justify_items": null,
            "grid_row": null,
            "max_height": null,
            "align_content": null,
            "visibility": null,
            "align_self": null,
            "height": null,
            "min_height": null,
            "padding": null,
            "grid_auto_rows": null,
            "grid_gap": null,
            "max_width": null,
            "order": null,
            "_view_module_version": "1.2.0",
            "grid_template_areas": null,
            "object_position": null,
            "object_fit": null,
            "grid_auto_columns": null,
            "margin": null,
            "display": null,
            "left": null
          }
        },
        "a94b13bb6c5243a480c9d16b4dda9bab": {
          "model_module": "@jupyter-widgets/controls",
          "model_name": "HTMLModel",
          "model_module_version": "1.5.0",
          "state": {
            "_view_name": "HTMLView",
            "style": "IPY_MODEL_01e01e0278d4415d8f7fc46e67955d10",
            "_dom_classes": [],
            "description": "",
            "_model_name": "HTMLModel",
            "placeholder": "​",
            "_view_module": "@jupyter-widgets/controls",
            "_model_module_version": "1.5.0",
            "value": "100%",
            "_view_count": null,
            "_view_module_version": "1.5.0",
            "description_tooltip": null,
            "_model_module": "@jupyter-widgets/controls",
            "layout": "IPY_MODEL_93e0058886eb4df29b3e2c9e7b146f18"
          }
        },
        "3989304743ac42fa9d2c27eb2595e1cf": {
          "model_module": "@jupyter-widgets/controls",
          "model_name": "FloatProgressModel",
          "model_module_version": "1.5.0",
          "state": {
            "_view_name": "ProgressView",
            "style": "IPY_MODEL_b89e957ee2e94872bc3b9718fd58060b",
            "_dom_classes": [],
            "description": "",
            "_model_name": "FloatProgressModel",
            "bar_style": "success",
            "max": 23,
            "_view_module": "@jupyter-widgets/controls",
            "_model_module_version": "1.5.0",
            "value": 23,
            "_view_count": null,
            "_view_module_version": "1.5.0",
            "orientation": "horizontal",
            "min": 0,
            "description_tooltip": null,
            "_model_module": "@jupyter-widgets/controls",
            "layout": "IPY_MODEL_e6ffbd1d7e79405d8f45375bba3b0e57"
          }
        },
        "0447004474a04693923282649e8ca1cd": {
          "model_module": "@jupyter-widgets/controls",
          "model_name": "HTMLModel",
          "model_module_version": "1.5.0",
          "state": {
            "_view_name": "HTMLView",
            "style": "IPY_MODEL_fa6169bcdf7b4ca9af239b436a61fa28",
            "_dom_classes": [],
            "description": "",
            "_model_name": "HTMLModel",
            "placeholder": "​",
            "_view_module": "@jupyter-widgets/controls",
            "_model_module_version": "1.5.0",
            "value": " 23/23 [00:01&lt;00:00, 14.32it/s]",
            "_view_count": null,
            "_view_module_version": "1.5.0",
            "description_tooltip": null,
            "_model_module": "@jupyter-widgets/controls",
            "layout": "IPY_MODEL_a9f878d6f5ae4aed973ca710fb712558"
          }
        },
        "01e01e0278d4415d8f7fc46e67955d10": {
          "model_module": "@jupyter-widgets/controls",
          "model_name": "DescriptionStyleModel",
          "model_module_version": "1.5.0",
          "state": {
            "_view_name": "StyleView",
            "_model_name": "DescriptionStyleModel",
            "description_width": "",
            "_view_module": "@jupyter-widgets/base",
            "_model_module_version": "1.5.0",
            "_view_count": null,
            "_view_module_version": "1.2.0",
            "_model_module": "@jupyter-widgets/controls"
          }
        },
        "93e0058886eb4df29b3e2c9e7b146f18": {
          "model_module": "@jupyter-widgets/base",
          "model_name": "LayoutModel",
          "model_module_version": "1.2.0",
          "state": {
            "_view_name": "LayoutView",
            "grid_template_rows": null,
            "right": null,
            "justify_content": null,
            "_view_module": "@jupyter-widgets/base",
            "overflow": null,
            "_model_module_version": "1.2.0",
            "_view_count": null,
            "flex_flow": null,
            "width": null,
            "min_width": null,
            "border": null,
            "align_items": null,
            "bottom": null,
            "_model_module": "@jupyter-widgets/base",
            "top": null,
            "grid_column": null,
            "overflow_y": null,
            "overflow_x": null,
            "grid_auto_flow": null,
            "grid_area": null,
            "grid_template_columns": null,
            "flex": null,
            "_model_name": "LayoutModel",
            "justify_items": null,
            "grid_row": null,
            "max_height": null,
            "align_content": null,
            "visibility": null,
            "align_self": null,
            "height": null,
            "min_height": null,
            "padding": null,
            "grid_auto_rows": null,
            "grid_gap": null,
            "max_width": null,
            "order": null,
            "_view_module_version": "1.2.0",
            "grid_template_areas": null,
            "object_position": null,
            "object_fit": null,
            "grid_auto_columns": null,
            "margin": null,
            "display": null,
            "left": null
          }
        },
        "b89e957ee2e94872bc3b9718fd58060b": {
          "model_module": "@jupyter-widgets/controls",
          "model_name": "ProgressStyleModel",
          "model_module_version": "1.5.0",
          "state": {
            "_view_name": "StyleView",
            "_model_name": "ProgressStyleModel",
            "description_width": "",
            "_view_module": "@jupyter-widgets/base",
            "_model_module_version": "1.5.0",
            "_view_count": null,
            "_view_module_version": "1.2.0",
            "bar_color": null,
            "_model_module": "@jupyter-widgets/controls"
          }
        },
        "e6ffbd1d7e79405d8f45375bba3b0e57": {
          "model_module": "@jupyter-widgets/base",
          "model_name": "LayoutModel",
          "model_module_version": "1.2.0",
          "state": {
            "_view_name": "LayoutView",
            "grid_template_rows": null,
            "right": null,
            "justify_content": null,
            "_view_module": "@jupyter-widgets/base",
            "overflow": null,
            "_model_module_version": "1.2.0",
            "_view_count": null,
            "flex_flow": null,
            "width": null,
            "min_width": null,
            "border": null,
            "align_items": null,
            "bottom": null,
            "_model_module": "@jupyter-widgets/base",
            "top": null,
            "grid_column": null,
            "overflow_y": null,
            "overflow_x": null,
            "grid_auto_flow": null,
            "grid_area": null,
            "grid_template_columns": null,
            "flex": null,
            "_model_name": "LayoutModel",
            "justify_items": null,
            "grid_row": null,
            "max_height": null,
            "align_content": null,
            "visibility": null,
            "align_self": null,
            "height": null,
            "min_height": null,
            "padding": null,
            "grid_auto_rows": null,
            "grid_gap": null,
            "max_width": null,
            "order": null,
            "_view_module_version": "1.2.0",
            "grid_template_areas": null,
            "object_position": null,
            "object_fit": null,
            "grid_auto_columns": null,
            "margin": null,
            "display": null,
            "left": null
          }
        },
        "fa6169bcdf7b4ca9af239b436a61fa28": {
          "model_module": "@jupyter-widgets/controls",
          "model_name": "DescriptionStyleModel",
          "model_module_version": "1.5.0",
          "state": {
            "_view_name": "StyleView",
            "_model_name": "DescriptionStyleModel",
            "description_width": "",
            "_view_module": "@jupyter-widgets/base",
            "_model_module_version": "1.5.0",
            "_view_count": null,
            "_view_module_version": "1.2.0",
            "_model_module": "@jupyter-widgets/controls"
          }
        },
        "a9f878d6f5ae4aed973ca710fb712558": {
          "model_module": "@jupyter-widgets/base",
          "model_name": "LayoutModel",
          "model_module_version": "1.2.0",
          "state": {
            "_view_name": "LayoutView",
            "grid_template_rows": null,
            "right": null,
            "justify_content": null,
            "_view_module": "@jupyter-widgets/base",
            "overflow": null,
            "_model_module_version": "1.2.0",
            "_view_count": null,
            "flex_flow": null,
            "width": null,
            "min_width": null,
            "border": null,
            "align_items": null,
            "bottom": null,
            "_model_module": "@jupyter-widgets/base",
            "top": null,
            "grid_column": null,
            "overflow_y": null,
            "overflow_x": null,
            "grid_auto_flow": null,
            "grid_area": null,
            "grid_template_columns": null,
            "flex": null,
            "_model_name": "LayoutModel",
            "justify_items": null,
            "grid_row": null,
            "max_height": null,
            "align_content": null,
            "visibility": null,
            "align_self": null,
            "height": null,
            "min_height": null,
            "padding": null,
            "grid_auto_rows": null,
            "grid_gap": null,
            "max_width": null,
            "order": null,
            "_view_module_version": "1.2.0",
            "grid_template_areas": null,
            "object_position": null,
            "object_fit": null,
            "grid_auto_columns": null,
            "margin": null,
            "display": null,
            "left": null
          }
        },
        "549651b768be4b7d993692fc29f90ca9": {
          "model_module": "@jupyter-widgets/controls",
          "model_name": "HBoxModel",
          "model_module_version": "1.5.0",
          "state": {
            "_view_name": "HBoxView",
            "_dom_classes": [],
            "_model_name": "HBoxModel",
            "_view_module": "@jupyter-widgets/controls",
            "_model_module_version": "1.5.0",
            "_view_count": null,
            "_view_module_version": "1.5.0",
            "box_style": "",
            "layout": "IPY_MODEL_4b31a0773fc74749aed0ed354bdbdba3",
            "_model_module": "@jupyter-widgets/controls",
            "children": [
              "IPY_MODEL_171d7079d39d45408461332b16b39a68",
              "IPY_MODEL_ef8099fc161a46af95d5adfa8c80b8fb",
              "IPY_MODEL_3069f7b8610c4f038a0fdb0665cffcf6"
            ]
          }
        },
        "4b31a0773fc74749aed0ed354bdbdba3": {
          "model_module": "@jupyter-widgets/base",
          "model_name": "LayoutModel",
          "model_module_version": "1.2.0",
          "state": {
            "_view_name": "LayoutView",
            "grid_template_rows": null,
            "right": null,
            "justify_content": null,
            "_view_module": "@jupyter-widgets/base",
            "overflow": null,
            "_model_module_version": "1.2.0",
            "_view_count": null,
            "flex_flow": null,
            "width": null,
            "min_width": null,
            "border": null,
            "align_items": null,
            "bottom": null,
            "_model_module": "@jupyter-widgets/base",
            "top": null,
            "grid_column": null,
            "overflow_y": null,
            "overflow_x": null,
            "grid_auto_flow": null,
            "grid_area": null,
            "grid_template_columns": null,
            "flex": null,
            "_model_name": "LayoutModel",
            "justify_items": null,
            "grid_row": null,
            "max_height": null,
            "align_content": null,
            "visibility": null,
            "align_self": null,
            "height": null,
            "min_height": null,
            "padding": null,
            "grid_auto_rows": null,
            "grid_gap": null,
            "max_width": null,
            "order": null,
            "_view_module_version": "1.2.0",
            "grid_template_areas": null,
            "object_position": null,
            "object_fit": null,
            "grid_auto_columns": null,
            "margin": null,
            "display": null,
            "left": null
          }
        },
        "171d7079d39d45408461332b16b39a68": {
          "model_module": "@jupyter-widgets/controls",
          "model_name": "HTMLModel",
          "model_module_version": "1.5.0",
          "state": {
            "_view_name": "HTMLView",
            "style": "IPY_MODEL_22a37783761441ed912e09fc2854456f",
            "_dom_classes": [],
            "description": "",
            "_model_name": "HTMLModel",
            "placeholder": "​",
            "_view_module": "@jupyter-widgets/controls",
            "_model_module_version": "1.5.0",
            "value": "100%",
            "_view_count": null,
            "_view_module_version": "1.5.0",
            "description_tooltip": null,
            "_model_module": "@jupyter-widgets/controls",
            "layout": "IPY_MODEL_cd591fa31700418c9f73fca04ac44218"
          }
        },
        "ef8099fc161a46af95d5adfa8c80b8fb": {
          "model_module": "@jupyter-widgets/controls",
          "model_name": "FloatProgressModel",
          "model_module_version": "1.5.0",
          "state": {
            "_view_name": "ProgressView",
            "style": "IPY_MODEL_4ec2fca57aa04a3e8b2fbc8dafe0c6d5",
            "_dom_classes": [],
            "description": "",
            "_model_name": "FloatProgressModel",
            "bar_style": "success",
            "max": 23,
            "_view_module": "@jupyter-widgets/controls",
            "_model_module_version": "1.5.0",
            "value": 23,
            "_view_count": null,
            "_view_module_version": "1.5.0",
            "orientation": "horizontal",
            "min": 0,
            "description_tooltip": null,
            "_model_module": "@jupyter-widgets/controls",
            "layout": "IPY_MODEL_ab4fd3bee55e4b15a043e5192e594607"
          }
        },
        "3069f7b8610c4f038a0fdb0665cffcf6": {
          "model_module": "@jupyter-widgets/controls",
          "model_name": "HTMLModel",
          "model_module_version": "1.5.0",
          "state": {
            "_view_name": "HTMLView",
            "style": "IPY_MODEL_a313e136ce90471ab8428cd9cb1c988d",
            "_dom_classes": [],
            "description": "",
            "_model_name": "HTMLModel",
            "placeholder": "​",
            "_view_module": "@jupyter-widgets/controls",
            "_model_module_version": "1.5.0",
            "value": " 23/23 [00:00&lt;00:00, 42.31it/s]",
            "_view_count": null,
            "_view_module_version": "1.5.0",
            "description_tooltip": null,
            "_model_module": "@jupyter-widgets/controls",
            "layout": "IPY_MODEL_d7f10dbcf23444abb6c2a43143003b0a"
          }
        },
        "22a37783761441ed912e09fc2854456f": {
          "model_module": "@jupyter-widgets/controls",
          "model_name": "DescriptionStyleModel",
          "model_module_version": "1.5.0",
          "state": {
            "_view_name": "StyleView",
            "_model_name": "DescriptionStyleModel",
            "description_width": "",
            "_view_module": "@jupyter-widgets/base",
            "_model_module_version": "1.5.0",
            "_view_count": null,
            "_view_module_version": "1.2.0",
            "_model_module": "@jupyter-widgets/controls"
          }
        },
        "cd591fa31700418c9f73fca04ac44218": {
          "model_module": "@jupyter-widgets/base",
          "model_name": "LayoutModel",
          "model_module_version": "1.2.0",
          "state": {
            "_view_name": "LayoutView",
            "grid_template_rows": null,
            "right": null,
            "justify_content": null,
            "_view_module": "@jupyter-widgets/base",
            "overflow": null,
            "_model_module_version": "1.2.0",
            "_view_count": null,
            "flex_flow": null,
            "width": null,
            "min_width": null,
            "border": null,
            "align_items": null,
            "bottom": null,
            "_model_module": "@jupyter-widgets/base",
            "top": null,
            "grid_column": null,
            "overflow_y": null,
            "overflow_x": null,
            "grid_auto_flow": null,
            "grid_area": null,
            "grid_template_columns": null,
            "flex": null,
            "_model_name": "LayoutModel",
            "justify_items": null,
            "grid_row": null,
            "max_height": null,
            "align_content": null,
            "visibility": null,
            "align_self": null,
            "height": null,
            "min_height": null,
            "padding": null,
            "grid_auto_rows": null,
            "grid_gap": null,
            "max_width": null,
            "order": null,
            "_view_module_version": "1.2.0",
            "grid_template_areas": null,
            "object_position": null,
            "object_fit": null,
            "grid_auto_columns": null,
            "margin": null,
            "display": null,
            "left": null
          }
        },
        "4ec2fca57aa04a3e8b2fbc8dafe0c6d5": {
          "model_module": "@jupyter-widgets/controls",
          "model_name": "ProgressStyleModel",
          "model_module_version": "1.5.0",
          "state": {
            "_view_name": "StyleView",
            "_model_name": "ProgressStyleModel",
            "description_width": "",
            "_view_module": "@jupyter-widgets/base",
            "_model_module_version": "1.5.0",
            "_view_count": null,
            "_view_module_version": "1.2.0",
            "bar_color": null,
            "_model_module": "@jupyter-widgets/controls"
          }
        },
        "ab4fd3bee55e4b15a043e5192e594607": {
          "model_module": "@jupyter-widgets/base",
          "model_name": "LayoutModel",
          "model_module_version": "1.2.0",
          "state": {
            "_view_name": "LayoutView",
            "grid_template_rows": null,
            "right": null,
            "justify_content": null,
            "_view_module": "@jupyter-widgets/base",
            "overflow": null,
            "_model_module_version": "1.2.0",
            "_view_count": null,
            "flex_flow": null,
            "width": null,
            "min_width": null,
            "border": null,
            "align_items": null,
            "bottom": null,
            "_model_module": "@jupyter-widgets/base",
            "top": null,
            "grid_column": null,
            "overflow_y": null,
            "overflow_x": null,
            "grid_auto_flow": null,
            "grid_area": null,
            "grid_template_columns": null,
            "flex": null,
            "_model_name": "LayoutModel",
            "justify_items": null,
            "grid_row": null,
            "max_height": null,
            "align_content": null,
            "visibility": null,
            "align_self": null,
            "height": null,
            "min_height": null,
            "padding": null,
            "grid_auto_rows": null,
            "grid_gap": null,
            "max_width": null,
            "order": null,
            "_view_module_version": "1.2.0",
            "grid_template_areas": null,
            "object_position": null,
            "object_fit": null,
            "grid_auto_columns": null,
            "margin": null,
            "display": null,
            "left": null
          }
        },
        "a313e136ce90471ab8428cd9cb1c988d": {
          "model_module": "@jupyter-widgets/controls",
          "model_name": "DescriptionStyleModel",
          "model_module_version": "1.5.0",
          "state": {
            "_view_name": "StyleView",
            "_model_name": "DescriptionStyleModel",
            "description_width": "",
            "_view_module": "@jupyter-widgets/base",
            "_model_module_version": "1.5.0",
            "_view_count": null,
            "_view_module_version": "1.2.0",
            "_model_module": "@jupyter-widgets/controls"
          }
        },
        "d7f10dbcf23444abb6c2a43143003b0a": {
          "model_module": "@jupyter-widgets/base",
          "model_name": "LayoutModel",
          "model_module_version": "1.2.0",
          "state": {
            "_view_name": "LayoutView",
            "grid_template_rows": null,
            "right": null,
            "justify_content": null,
            "_view_module": "@jupyter-widgets/base",
            "overflow": null,
            "_model_module_version": "1.2.0",
            "_view_count": null,
            "flex_flow": null,
            "width": null,
            "min_width": null,
            "border": null,
            "align_items": null,
            "bottom": null,
            "_model_module": "@jupyter-widgets/base",
            "top": null,
            "grid_column": null,
            "overflow_y": null,
            "overflow_x": null,
            "grid_auto_flow": null,
            "grid_area": null,
            "grid_template_columns": null,
            "flex": null,
            "_model_name": "LayoutModel",
            "justify_items": null,
            "grid_row": null,
            "max_height": null,
            "align_content": null,
            "visibility": null,
            "align_self": null,
            "height": null,
            "min_height": null,
            "padding": null,
            "grid_auto_rows": null,
            "grid_gap": null,
            "max_width": null,
            "order": null,
            "_view_module_version": "1.2.0",
            "grid_template_areas": null,
            "object_position": null,
            "object_fit": null,
            "grid_auto_columns": null,
            "margin": null,
            "display": null,
            "left": null
          }
        },
        "a19a035d28be41c1a8adf165f0d31977": {
          "model_module": "@jupyter-widgets/controls",
          "model_name": "HBoxModel",
          "model_module_version": "1.5.0",
          "state": {
            "_view_name": "HBoxView",
            "_dom_classes": [],
            "_model_name": "HBoxModel",
            "_view_module": "@jupyter-widgets/controls",
            "_model_module_version": "1.5.0",
            "_view_count": null,
            "_view_module_version": "1.5.0",
            "box_style": "",
            "layout": "IPY_MODEL_85b1f1df9817497da131552b93394ec3",
            "_model_module": "@jupyter-widgets/controls",
            "children": [
              "IPY_MODEL_7e22c30cb5624f189ed004347f648c40",
              "IPY_MODEL_3637816d25aa452bb1236ff108193e93",
              "IPY_MODEL_8c19c129dbac45138da1977394a38fa5"
            ]
          }
        },
        "85b1f1df9817497da131552b93394ec3": {
          "model_module": "@jupyter-widgets/base",
          "model_name": "LayoutModel",
          "model_module_version": "1.2.0",
          "state": {
            "_view_name": "LayoutView",
            "grid_template_rows": null,
            "right": null,
            "justify_content": null,
            "_view_module": "@jupyter-widgets/base",
            "overflow": null,
            "_model_module_version": "1.2.0",
            "_view_count": null,
            "flex_flow": null,
            "width": null,
            "min_width": null,
            "border": null,
            "align_items": null,
            "bottom": null,
            "_model_module": "@jupyter-widgets/base",
            "top": null,
            "grid_column": null,
            "overflow_y": null,
            "overflow_x": null,
            "grid_auto_flow": null,
            "grid_area": null,
            "grid_template_columns": null,
            "flex": null,
            "_model_name": "LayoutModel",
            "justify_items": null,
            "grid_row": null,
            "max_height": null,
            "align_content": null,
            "visibility": null,
            "align_self": null,
            "height": null,
            "min_height": null,
            "padding": null,
            "grid_auto_rows": null,
            "grid_gap": null,
            "max_width": null,
            "order": null,
            "_view_module_version": "1.2.0",
            "grid_template_areas": null,
            "object_position": null,
            "object_fit": null,
            "grid_auto_columns": null,
            "margin": null,
            "display": null,
            "left": null
          }
        },
        "7e22c30cb5624f189ed004347f648c40": {
          "model_module": "@jupyter-widgets/controls",
          "model_name": "HTMLModel",
          "model_module_version": "1.5.0",
          "state": {
            "_view_name": "HTMLView",
            "style": "IPY_MODEL_755aa697685a41aab735a65ba2daaab1",
            "_dom_classes": [],
            "description": "",
            "_model_name": "HTMLModel",
            "placeholder": "​",
            "_view_module": "@jupyter-widgets/controls",
            "_model_module_version": "1.5.0",
            "value": "100%",
            "_view_count": null,
            "_view_module_version": "1.5.0",
            "description_tooltip": null,
            "_model_module": "@jupyter-widgets/controls",
            "layout": "IPY_MODEL_b500499e9dff400ea92005cc7729e576"
          }
        },
        "3637816d25aa452bb1236ff108193e93": {
          "model_module": "@jupyter-widgets/controls",
          "model_name": "FloatProgressModel",
          "model_module_version": "1.5.0",
          "state": {
            "_view_name": "ProgressView",
            "style": "IPY_MODEL_3dd6b4ae5fb541cf80bc9fefec794ffd",
            "_dom_classes": [],
            "description": "",
            "_model_name": "FloatProgressModel",
            "bar_style": "success",
            "max": 23,
            "_view_module": "@jupyter-widgets/controls",
            "_model_module_version": "1.5.0",
            "value": 23,
            "_view_count": null,
            "_view_module_version": "1.5.0",
            "orientation": "horizontal",
            "min": 0,
            "description_tooltip": null,
            "_model_module": "@jupyter-widgets/controls",
            "layout": "IPY_MODEL_6b808f6fc24b47308312cc5fcd8a8c13"
          }
        },
        "8c19c129dbac45138da1977394a38fa5": {
          "model_module": "@jupyter-widgets/controls",
          "model_name": "HTMLModel",
          "model_module_version": "1.5.0",
          "state": {
            "_view_name": "HTMLView",
            "style": "IPY_MODEL_238efa4334d24a6e80557ee3d60d7122",
            "_dom_classes": [],
            "description": "",
            "_model_name": "HTMLModel",
            "placeholder": "​",
            "_view_module": "@jupyter-widgets/controls",
            "_model_module_version": "1.5.0",
            "value": " 23/23 [00:00&lt;00:00, 348.89it/s]",
            "_view_count": null,
            "_view_module_version": "1.5.0",
            "description_tooltip": null,
            "_model_module": "@jupyter-widgets/controls",
            "layout": "IPY_MODEL_abd641c857bf40f6b9309854c82cc5c2"
          }
        },
        "755aa697685a41aab735a65ba2daaab1": {
          "model_module": "@jupyter-widgets/controls",
          "model_name": "DescriptionStyleModel",
          "model_module_version": "1.5.0",
          "state": {
            "_view_name": "StyleView",
            "_model_name": "DescriptionStyleModel",
            "description_width": "",
            "_view_module": "@jupyter-widgets/base",
            "_model_module_version": "1.5.0",
            "_view_count": null,
            "_view_module_version": "1.2.0",
            "_model_module": "@jupyter-widgets/controls"
          }
        },
        "b500499e9dff400ea92005cc7729e576": {
          "model_module": "@jupyter-widgets/base",
          "model_name": "LayoutModel",
          "model_module_version": "1.2.0",
          "state": {
            "_view_name": "LayoutView",
            "grid_template_rows": null,
            "right": null,
            "justify_content": null,
            "_view_module": "@jupyter-widgets/base",
            "overflow": null,
            "_model_module_version": "1.2.0",
            "_view_count": null,
            "flex_flow": null,
            "width": null,
            "min_width": null,
            "border": null,
            "align_items": null,
            "bottom": null,
            "_model_module": "@jupyter-widgets/base",
            "top": null,
            "grid_column": null,
            "overflow_y": null,
            "overflow_x": null,
            "grid_auto_flow": null,
            "grid_area": null,
            "grid_template_columns": null,
            "flex": null,
            "_model_name": "LayoutModel",
            "justify_items": null,
            "grid_row": null,
            "max_height": null,
            "align_content": null,
            "visibility": null,
            "align_self": null,
            "height": null,
            "min_height": null,
            "padding": null,
            "grid_auto_rows": null,
            "grid_gap": null,
            "max_width": null,
            "order": null,
            "_view_module_version": "1.2.0",
            "grid_template_areas": null,
            "object_position": null,
            "object_fit": null,
            "grid_auto_columns": null,
            "margin": null,
            "display": null,
            "left": null
          }
        },
        "3dd6b4ae5fb541cf80bc9fefec794ffd": {
          "model_module": "@jupyter-widgets/controls",
          "model_name": "ProgressStyleModel",
          "model_module_version": "1.5.0",
          "state": {
            "_view_name": "StyleView",
            "_model_name": "ProgressStyleModel",
            "description_width": "",
            "_view_module": "@jupyter-widgets/base",
            "_model_module_version": "1.5.0",
            "_view_count": null,
            "_view_module_version": "1.2.0",
            "bar_color": null,
            "_model_module": "@jupyter-widgets/controls"
          }
        },
        "6b808f6fc24b47308312cc5fcd8a8c13": {
          "model_module": "@jupyter-widgets/base",
          "model_name": "LayoutModel",
          "model_module_version": "1.2.0",
          "state": {
            "_view_name": "LayoutView",
            "grid_template_rows": null,
            "right": null,
            "justify_content": null,
            "_view_module": "@jupyter-widgets/base",
            "overflow": null,
            "_model_module_version": "1.2.0",
            "_view_count": null,
            "flex_flow": null,
            "width": null,
            "min_width": null,
            "border": null,
            "align_items": null,
            "bottom": null,
            "_model_module": "@jupyter-widgets/base",
            "top": null,
            "grid_column": null,
            "overflow_y": null,
            "overflow_x": null,
            "grid_auto_flow": null,
            "grid_area": null,
            "grid_template_columns": null,
            "flex": null,
            "_model_name": "LayoutModel",
            "justify_items": null,
            "grid_row": null,
            "max_height": null,
            "align_content": null,
            "visibility": null,
            "align_self": null,
            "height": null,
            "min_height": null,
            "padding": null,
            "grid_auto_rows": null,
            "grid_gap": null,
            "max_width": null,
            "order": null,
            "_view_module_version": "1.2.0",
            "grid_template_areas": null,
            "object_position": null,
            "object_fit": null,
            "grid_auto_columns": null,
            "margin": null,
            "display": null,
            "left": null
          }
        },
        "238efa4334d24a6e80557ee3d60d7122": {
          "model_module": "@jupyter-widgets/controls",
          "model_name": "DescriptionStyleModel",
          "model_module_version": "1.5.0",
          "state": {
            "_view_name": "StyleView",
            "_model_name": "DescriptionStyleModel",
            "description_width": "",
            "_view_module": "@jupyter-widgets/base",
            "_model_module_version": "1.5.0",
            "_view_count": null,
            "_view_module_version": "1.2.0",
            "_model_module": "@jupyter-widgets/controls"
          }
        },
        "abd641c857bf40f6b9309854c82cc5c2": {
          "model_module": "@jupyter-widgets/base",
          "model_name": "LayoutModel",
          "model_module_version": "1.2.0",
          "state": {
            "_view_name": "LayoutView",
            "grid_template_rows": null,
            "right": null,
            "justify_content": null,
            "_view_module": "@jupyter-widgets/base",
            "overflow": null,
            "_model_module_version": "1.2.0",
            "_view_count": null,
            "flex_flow": null,
            "width": null,
            "min_width": null,
            "border": null,
            "align_items": null,
            "bottom": null,
            "_model_module": "@jupyter-widgets/base",
            "top": null,
            "grid_column": null,
            "overflow_y": null,
            "overflow_x": null,
            "grid_auto_flow": null,
            "grid_area": null,
            "grid_template_columns": null,
            "flex": null,
            "_model_name": "LayoutModel",
            "justify_items": null,
            "grid_row": null,
            "max_height": null,
            "align_content": null,
            "visibility": null,
            "align_self": null,
            "height": null,
            "min_height": null,
            "padding": null,
            "grid_auto_rows": null,
            "grid_gap": null,
            "max_width": null,
            "order": null,
            "_view_module_version": "1.2.0",
            "grid_template_areas": null,
            "object_position": null,
            "object_fit": null,
            "grid_auto_columns": null,
            "margin": null,
            "display": null,
            "left": null
          }
        }
      }
    }
  },
  "cells": [
    {
      "cell_type": "code",
      "metadata": {
        "colab": {
          "base_uri": "https://localhost:8080/"
        },
        "id": "qTSN7lxioEjc",
        "outputId": "070e99c7-f39b-4e2b-c5ba-a4b0476ae595"
      },
      "source": [
        "!pip install segmentation-models"
      ],
      "execution_count": 1,
      "outputs": [
        {
          "output_type": "stream",
          "name": "stdout",
          "text": [
            "Requirement already satisfied: segmentation-models in /usr/local/lib/python3.7/dist-packages (1.0.1)\n",
            "Requirement already satisfied: image-classifiers==1.0.0 in /usr/local/lib/python3.7/dist-packages (from segmentation-models) (1.0.0)\n",
            "Requirement already satisfied: keras-applications<=1.0.8,>=1.0.7 in /usr/local/lib/python3.7/dist-packages (from segmentation-models) (1.0.8)\n",
            "Requirement already satisfied: efficientnet==1.0.0 in /usr/local/lib/python3.7/dist-packages (from segmentation-models) (1.0.0)\n",
            "Requirement already satisfied: scikit-image in /usr/local/lib/python3.7/dist-packages (from efficientnet==1.0.0->segmentation-models) (0.16.2)\n",
            "Requirement already satisfied: numpy>=1.9.1 in /usr/local/lib/python3.7/dist-packages (from keras-applications<=1.0.8,>=1.0.7->segmentation-models) (1.19.5)\n",
            "Requirement already satisfied: h5py in /usr/local/lib/python3.7/dist-packages (from keras-applications<=1.0.8,>=1.0.7->segmentation-models) (3.1.0)\n",
            "Requirement already satisfied: cached-property in /usr/local/lib/python3.7/dist-packages (from h5py->keras-applications<=1.0.8,>=1.0.7->segmentation-models) (1.5.2)\n",
            "Requirement already satisfied: imageio>=2.3.0 in /usr/local/lib/python3.7/dist-packages (from scikit-image->efficientnet==1.0.0->segmentation-models) (2.4.1)\n",
            "Requirement already satisfied: PyWavelets>=0.4.0 in /usr/local/lib/python3.7/dist-packages (from scikit-image->efficientnet==1.0.0->segmentation-models) (1.1.1)\n",
            "Requirement already satisfied: matplotlib!=3.0.0,>=2.0.0 in /usr/local/lib/python3.7/dist-packages (from scikit-image->efficientnet==1.0.0->segmentation-models) (3.2.2)\n",
            "Requirement already satisfied: pillow>=4.3.0 in /usr/local/lib/python3.7/dist-packages (from scikit-image->efficientnet==1.0.0->segmentation-models) (7.1.2)\n",
            "Requirement already satisfied: networkx>=2.0 in /usr/local/lib/python3.7/dist-packages (from scikit-image->efficientnet==1.0.0->segmentation-models) (2.6.3)\n",
            "Requirement already satisfied: scipy>=0.19.0 in /usr/local/lib/python3.7/dist-packages (from scikit-image->efficientnet==1.0.0->segmentation-models) (1.4.1)\n",
            "Requirement already satisfied: cycler>=0.10 in /usr/local/lib/python3.7/dist-packages (from matplotlib!=3.0.0,>=2.0.0->scikit-image->efficientnet==1.0.0->segmentation-models) (0.10.0)\n",
            "Requirement already satisfied: python-dateutil>=2.1 in /usr/local/lib/python3.7/dist-packages (from matplotlib!=3.0.0,>=2.0.0->scikit-image->efficientnet==1.0.0->segmentation-models) (2.8.2)\n",
            "Requirement already satisfied: pyparsing!=2.0.4,!=2.1.2,!=2.1.6,>=2.0.1 in /usr/local/lib/python3.7/dist-packages (from matplotlib!=3.0.0,>=2.0.0->scikit-image->efficientnet==1.0.0->segmentation-models) (2.4.7)\n",
            "Requirement already satisfied: kiwisolver>=1.0.1 in /usr/local/lib/python3.7/dist-packages (from matplotlib!=3.0.0,>=2.0.0->scikit-image->efficientnet==1.0.0->segmentation-models) (1.3.2)\n",
            "Requirement already satisfied: six in /usr/local/lib/python3.7/dist-packages (from cycler>=0.10->matplotlib!=3.0.0,>=2.0.0->scikit-image->efficientnet==1.0.0->segmentation-models) (1.15.0)\n"
          ]
        }
      ]
    },
    {
      "cell_type": "code",
      "metadata": {
        "colab": {
          "base_uri": "https://localhost:8080/",
          "height": 52
        },
        "id": "mVgPct20eRLG",
        "outputId": "6d38ab70-f0b7-45dc-c9b7-87f0163a0208"
      },
      "source": [
        "import segmentation_models as sm\n",
        "from segmentation_models import Unet\n",
        "import xarray as xr\n",
        "import cv2\n",
        "import matplotlib.pyplot as plt\n",
        "import numpy as np\n",
        "from glob import glob\n",
        "from tqdm.notebook import tqdm\n",
        "import tensorflow as tf\n",
        "\n",
        "from segmentation_models import Linknet\n",
        "from segmentation_models import get_preprocessing\n",
        "from segmentation_models.losses import bce_jaccard_loss\n",
        "from segmentation_models.metrics import iou_score\n",
        "\n",
        "BACKBONE = 'resnet34'\n",
        "preprocess_input = get_preprocessing(BACKBONE)\n",
        "\n",
        "sm.set_framework('tf.keras')\n",
        "sm.framework()"
      ],
      "execution_count": 2,
      "outputs": [
        {
          "output_type": "stream",
          "name": "stdout",
          "text": [
            "Segmentation Models: using `keras` framework.\n"
          ]
        },
        {
          "output_type": "execute_result",
          "data": {
            "application/vnd.google.colaboratory.intrinsic+json": {
              "type": "string"
            },
            "text/plain": [
              "'tf.keras'"
            ]
          },
          "metadata": {},
          "execution_count": 2
        }
      ]
    },
    {
      "cell_type": "code",
      "metadata": {
        "id": "fy0x4LznyREP"
      },
      "source": [
        "tf.config.run_functions_eagerly(True)"
      ],
      "execution_count": 3,
      "outputs": []
    },
    {
      "cell_type": "code",
      "metadata": {
        "id": "RJUHv3IVmZZQ"
      },
      "source": [
        "label_files = glob('/content/drive/MyDrive/Work/College/Classes/Capstone/sidewalk_dataset/cityscapes/labels/*.png')\n",
        "image_files = glob('/content/drive/MyDrive/Work/College/Classes/Capstone/sidewalk_dataset/cityscapes/original/*.png')\n",
        "label_files.sort()\n",
        "image_files.sort()"
      ],
      "execution_count": 4,
      "outputs": []
    },
    {
      "cell_type": "code",
      "metadata": {
        "colab": {
          "base_uri": "https://localhost:8080/",
          "height": 81,
          "referenced_widgets": [
            "45828c1755bc4a7580522ebd418298fd",
            "a0d1ea4f2fbc442997aa3ce4ea04b41f",
            "a94b13bb6c5243a480c9d16b4dda9bab",
            "3989304743ac42fa9d2c27eb2595e1cf",
            "0447004474a04693923282649e8ca1cd",
            "01e01e0278d4415d8f7fc46e67955d10",
            "93e0058886eb4df29b3e2c9e7b146f18",
            "b89e957ee2e94872bc3b9718fd58060b",
            "e6ffbd1d7e79405d8f45375bba3b0e57",
            "fa6169bcdf7b4ca9af239b436a61fa28",
            "a9f878d6f5ae4aed973ca710fb712558",
            "549651b768be4b7d993692fc29f90ca9",
            "4b31a0773fc74749aed0ed354bdbdba3",
            "171d7079d39d45408461332b16b39a68",
            "ef8099fc161a46af95d5adfa8c80b8fb",
            "3069f7b8610c4f038a0fdb0665cffcf6",
            "22a37783761441ed912e09fc2854456f",
            "cd591fa31700418c9f73fca04ac44218",
            "4ec2fca57aa04a3e8b2fbc8dafe0c6d5",
            "ab4fd3bee55e4b15a043e5192e594607",
            "a313e136ce90471ab8428cd9cb1c988d",
            "d7f10dbcf23444abb6c2a43143003b0a"
          ]
        },
        "id": "B9asAhcPmvrQ",
        "outputId": "be5e1046-1c2f-4d04-9cc4-890d26485e07"
      },
      "source": [
        "n = 100\n",
        "size_config = 480, 480\n",
        "images = [cv2.resize(cv2.imread(file), size_config) for file in tqdm(image_files[:n])]\n",
        "labels = [cv2.cvtColor(cv2.resize(cv2.imread(file), size_config), cv2.COLOR_BGR2GRAY) for file in tqdm(label_files[:n])]\n",
        "labels = np.asarray(labels)"
      ],
      "execution_count": 6,
      "outputs": [
        {
          "output_type": "display_data",
          "data": {
            "application/vnd.jupyter.widget-view+json": {
              "model_id": "45828c1755bc4a7580522ebd418298fd",
              "version_minor": 0,
              "version_major": 2
            },
            "text/plain": [
              "  0%|          | 0/23 [00:00<?, ?it/s]"
            ]
          },
          "metadata": {}
        },
        {
          "output_type": "display_data",
          "data": {
            "application/vnd.jupyter.widget-view+json": {
              "model_id": "549651b768be4b7d993692fc29f90ca9",
              "version_minor": 0,
              "version_major": 2
            },
            "text/plain": [
              "  0%|          | 0/23 [00:00<?, ?it/s]"
            ]
          },
          "metadata": {}
        }
      ]
    },
    {
      "cell_type": "code",
      "metadata": {
        "id": "C9iIYCpOtP4j"
      },
      "source": [
        "roads = (labels == 7) * labels\n",
        "sidewalks = (labels == 8) * labels"
      ],
      "execution_count": 7,
      "outputs": []
    },
    {
      "cell_type": "code",
      "metadata": {
        "colab": {
          "base_uri": "https://localhost:8080/",
          "height": 66,
          "referenced_widgets": [
            "a19a035d28be41c1a8adf165f0d31977",
            "85b1f1df9817497da131552b93394ec3",
            "7e22c30cb5624f189ed004347f648c40",
            "3637816d25aa452bb1236ff108193e93",
            "8c19c129dbac45138da1977394a38fa5",
            "755aa697685a41aab735a65ba2daaab1",
            "b500499e9dff400ea92005cc7729e576",
            "3dd6b4ae5fb541cf80bc9fefec794ffd",
            "6b808f6fc24b47308312cc5fcd8a8c13",
            "238efa4334d24a6e80557ee3d60d7122",
            "abd641c857bf40f6b9309854c82cc5c2"
          ]
        },
        "id": "gP78d_cMuyYM",
        "outputId": "a12a13b0-8dac-4702-d695-4eedf0065a50"
      },
      "source": [
        "y = []\n",
        "for obj in tqdm(zip(roads, sidewalks), total=len(roads)):\n",
        "  new = np.concatenate([obj[0][:, :, np.newaxis], obj[1][:, :, np.newaxis]], axis=2)\n",
        "  y.append(new)\n",
        "y = np.asarray(y)\n",
        "y.shape"
      ],
      "execution_count": 8,
      "outputs": [
        {
          "output_type": "display_data",
          "data": {
            "application/vnd.jupyter.widget-view+json": {
              "model_id": "a19a035d28be41c1a8adf165f0d31977",
              "version_minor": 0,
              "version_major": 2
            },
            "text/plain": [
              "  0%|          | 0/23 [00:00<?, ?it/s]"
            ]
          },
          "metadata": {}
        },
        {
          "output_type": "execute_result",
          "data": {
            "text/plain": [
              "(23, 480, 480, 2)"
            ]
          },
          "metadata": {},
          "execution_count": 8
        }
      ]
    },
    {
      "cell_type": "code",
      "metadata": {
        "id": "vD08t6Lhxihf"
      },
      "source": [
        "X = np.asarray(images).astype(np.uint8)"
      ],
      "execution_count": 9,
      "outputs": []
    },
    {
      "cell_type": "code",
      "metadata": {
        "id": "uQdasukMnHUC"
      },
      "source": [
        "# X = np.asarray(images).astype(np.uint8)\n",
        "# y = np.asarray(labels).astype(np.uint8)\n",
        "# print(X.shape, y.shape)"
      ],
      "execution_count": null,
      "outputs": []
    },
    {
      "cell_type": "code",
      "metadata": {
        "colab": {
          "base_uri": "https://localhost:8080/"
        },
        "id": "snX2Hg0qyF07",
        "outputId": "b909b49d-2d3b-45a5-d2e1-ce7d0f777087"
      },
      "source": [
        "y = tf.cast(y, tf.float32)\n",
        "y.shape"
      ],
      "execution_count": 10,
      "outputs": [
        {
          "output_type": "execute_result",
          "data": {
            "text/plain": [
              "TensorShape([23, 480, 480, 2])"
            ]
          },
          "metadata": {},
          "execution_count": 10
        }
      ]
    },
    {
      "cell_type": "code",
      "metadata": {
        "colab": {
          "base_uri": "https://localhost:8080/"
        },
        "id": "KP00_pKVnKX_",
        "outputId": "26a49167-9cf5-4d6e-894c-17e29172090e"
      },
      "source": [
        "x_train = preprocess_input(X)\n",
        "print(x_train.shape)"
      ],
      "execution_count": 11,
      "outputs": [
        {
          "output_type": "stream",
          "name": "stdout",
          "text": [
            "(23, 480, 480, 3)\n"
          ]
        }
      ]
    },
    {
      "cell_type": "code",
      "metadata": {
        "colab": {
          "base_uri": "https://localhost:8080/"
        },
        "id": "D705mIwOnL2X",
        "outputId": "b76f1b0f-fbf4-43b1-bccd-a4c3305d26fb"
      },
      "source": [
        "model = Linknet('resnet34', input_shape=(None, None, 3), encoder_weights=None, classes=2)\n",
        "model.compile('Adam', loss='mean_absolute_error')\n",
        "# fit model\n",
        "history = model.fit(\n",
        "    x=x_train,\n",
        "    y=y,\n",
        "    batch_size=8,\n",
        "    epochs=100,\n",
        "    verbose=1,\n",
        "    validation_split=0.25\n",
        ")"
      ],
      "execution_count": 12,
      "outputs": [
        {
          "output_type": "stream",
          "name": "stderr",
          "text": [
            "/usr/local/lib/python3.7/dist-packages/tensorflow/python/data/ops/dataset_ops.py:4212: UserWarning: Even though the `tf.config.experimental_run_functions_eagerly` option is set, this option does not apply to tf.data functions. To force eager execution of tf.data functions, please use `tf.data.experimental.enable_debug_mode()`.\n",
            "  \"Even though the `tf.config.experimental_run_functions_eagerly` \"\n"
          ]
        },
        {
          "output_type": "stream",
          "name": "stdout",
          "text": [
            "Epoch 1/100\n",
            "3/3 [==============================] - 10s 2s/step - loss: 1.7117 - val_loss: 1.6532\n",
            "Epoch 2/100\n",
            "3/3 [==============================] - 2s 718ms/step - loss: 1.6606 - val_loss: 1.3225\n",
            "Epoch 3/100\n",
            "3/3 [==============================] - 2s 767ms/step - loss: 1.6209 - val_loss: 1.2873\n",
            "Epoch 4/100\n",
            "3/3 [==============================] - 2s 756ms/step - loss: 1.5880 - val_loss: 1.0862\n",
            "Epoch 5/100\n",
            "3/3 [==============================] - 2s 767ms/step - loss: 1.5571 - val_loss: 0.9269\n",
            "Epoch 6/100\n",
            "3/3 [==============================] - 2s 717ms/step - loss: 1.5271 - val_loss: 0.9250\n",
            "Epoch 7/100\n",
            "3/3 [==============================] - 2s 719ms/step - loss: 1.5000 - val_loss: 0.9239\n",
            "Epoch 8/100\n",
            "3/3 [==============================] - 2s 718ms/step - loss: 1.4755 - val_loss: 0.9238\n",
            "Epoch 9/100\n",
            "3/3 [==============================] - 2s 752ms/step - loss: 1.4550 - val_loss: 0.9238\n",
            "Epoch 10/100\n",
            "3/3 [==============================] - 2s 763ms/step - loss: 1.4345 - val_loss: 0.9238\n",
            "Epoch 11/100\n",
            "3/3 [==============================] - 2s 721ms/step - loss: 1.4188 - val_loss: 0.9238\n",
            "Epoch 12/100\n",
            "3/3 [==============================] - 2s 760ms/step - loss: 1.4032 - val_loss: 0.9238\n",
            "Epoch 13/100\n",
            "3/3 [==============================] - 2s 756ms/step - loss: 1.3899 - val_loss: 0.9238\n",
            "Epoch 14/100\n",
            "3/3 [==============================] - 2s 721ms/step - loss: 1.3823 - val_loss: 0.9238\n",
            "Epoch 15/100\n",
            "3/3 [==============================] - 2s 757ms/step - loss: 1.3718 - val_loss: 0.9241\n",
            "Epoch 16/100\n",
            "3/3 [==============================] - 2s 761ms/step - loss: 1.3637 - val_loss: 0.9241\n",
            "Epoch 17/100\n",
            "3/3 [==============================] - 2s 729ms/step - loss: 1.3613 - val_loss: 0.9246\n",
            "Epoch 18/100\n",
            "3/3 [==============================] - 2s 761ms/step - loss: 1.3542 - val_loss: 0.9256\n",
            "Epoch 19/100\n",
            "3/3 [==============================] - 2s 722ms/step - loss: 1.3492 - val_loss: 0.9281\n",
            "Epoch 20/100\n",
            "3/3 [==============================] - 2s 763ms/step - loss: 1.3450 - val_loss: 0.9290\n",
            "Epoch 21/100\n",
            "3/3 [==============================] - 2s 766ms/step - loss: 1.3414 - val_loss: 0.9298\n",
            "Epoch 22/100\n",
            "3/3 [==============================] - 2s 764ms/step - loss: 1.3359 - val_loss: 0.9307\n",
            "Epoch 23/100\n",
            "3/3 [==============================] - 2s 765ms/step - loss: 1.3438 - val_loss: 0.9391\n",
            "Epoch 24/100\n",
            "3/3 [==============================] - 2s 768ms/step - loss: 1.3333 - val_loss: 0.9422\n",
            "Epoch 25/100\n",
            "3/3 [==============================] - 2s 734ms/step - loss: 1.3317 - val_loss: 0.9437\n",
            "Epoch 26/100\n",
            "3/3 [==============================] - 2s 770ms/step - loss: 1.3317 - val_loss: 0.9336\n",
            "Epoch 27/100\n",
            "3/3 [==============================] - 2s 760ms/step - loss: 1.3286 - val_loss: 0.9322\n",
            "Epoch 28/100\n",
            "3/3 [==============================] - 2s 769ms/step - loss: 1.3277 - val_loss: 0.9320\n",
            "Epoch 29/100\n",
            "3/3 [==============================] - 2s 761ms/step - loss: 1.3246 - val_loss: 0.9322\n",
            "Epoch 30/100\n",
            "3/3 [==============================] - 2s 762ms/step - loss: 1.3245 - val_loss: 0.9316\n",
            "Epoch 31/100\n",
            "3/3 [==============================] - 2s 733ms/step - loss: 1.3197 - val_loss: 0.9308\n",
            "Epoch 32/100\n",
            "3/3 [==============================] - 2s 757ms/step - loss: 1.3191 - val_loss: 0.9331\n",
            "Epoch 33/100\n",
            "3/3 [==============================] - 2s 772ms/step - loss: 1.3189 - val_loss: 0.9360\n",
            "Epoch 34/100\n",
            "3/3 [==============================] - 3s 832ms/step - loss: 1.3652 - val_loss: 0.9437\n",
            "Epoch 35/100\n",
            "3/3 [==============================] - 2s 767ms/step - loss: 1.3283 - val_loss: 0.9563\n",
            "Epoch 36/100\n",
            "3/3 [==============================] - 2s 728ms/step - loss: 1.3266 - val_loss: 0.9654\n",
            "Epoch 37/100\n",
            "3/3 [==============================] - 2s 770ms/step - loss: 1.3239 - val_loss: 0.9462\n",
            "Epoch 38/100\n",
            "3/3 [==============================] - 2s 772ms/step - loss: 1.3205 - val_loss: 0.9398\n",
            "Epoch 39/100\n",
            "3/3 [==============================] - 2s 768ms/step - loss: 1.3195 - val_loss: 0.9360\n",
            "Epoch 40/100\n",
            "3/3 [==============================] - 2s 771ms/step - loss: 1.3170 - val_loss: 0.9348\n",
            "Epoch 41/100\n",
            "3/3 [==============================] - 2s 764ms/step - loss: 1.3175 - val_loss: 0.9388\n",
            "Epoch 42/100\n",
            "3/3 [==============================] - 2s 720ms/step - loss: 1.3195 - val_loss: 0.9332\n",
            "Epoch 43/100\n",
            "3/3 [==============================] - 2s 771ms/step - loss: 1.3193 - val_loss: 0.9287\n",
            "Epoch 44/100\n",
            "3/3 [==============================] - 2s 730ms/step - loss: 1.3219 - val_loss: 0.9283\n",
            "Epoch 45/100\n",
            "3/3 [==============================] - 2s 767ms/step - loss: 1.3242 - val_loss: 0.9288\n",
            "Epoch 46/100\n",
            "3/3 [==============================] - 2s 724ms/step - loss: 1.3213 - val_loss: 0.9300\n",
            "Epoch 47/100\n",
            "3/3 [==============================] - 2s 774ms/step - loss: 1.3186 - val_loss: 0.9326\n",
            "Epoch 48/100\n",
            "3/3 [==============================] - 2s 768ms/step - loss: 1.3161 - val_loss: 0.9352\n",
            "Epoch 49/100\n",
            "3/3 [==============================] - 2s 766ms/step - loss: 1.3178 - val_loss: 0.9353\n",
            "Epoch 50/100\n",
            "3/3 [==============================] - 2s 730ms/step - loss: 1.3140 - val_loss: 0.9302\n",
            "Epoch 51/100\n",
            "3/3 [==============================] - 2s 768ms/step - loss: 1.3198 - val_loss: 0.9296\n",
            "Epoch 52/100\n",
            "3/3 [==============================] - 2s 766ms/step - loss: 1.3159 - val_loss: 0.9332\n",
            "Epoch 53/100\n",
            "3/3 [==============================] - 2s 770ms/step - loss: 1.3151 - val_loss: 0.9360\n",
            "Epoch 54/100\n",
            "3/3 [==============================] - 2s 765ms/step - loss: 1.3144 - val_loss: 0.9383\n",
            "Epoch 55/100\n",
            "3/3 [==============================] - 2s 730ms/step - loss: 1.3130 - val_loss: 0.9398\n",
            "Epoch 56/100\n",
            "3/3 [==============================] - 2s 759ms/step - loss: 1.3119 - val_loss: 0.9412\n",
            "Epoch 57/100\n",
            "3/3 [==============================] - 2s 724ms/step - loss: 1.3109 - val_loss: 0.9442\n",
            "Epoch 58/100\n",
            "3/3 [==============================] - 2s 770ms/step - loss: 1.3108 - val_loss: 0.9514\n",
            "Epoch 59/100\n",
            "3/3 [==============================] - 2s 767ms/step - loss: 1.3115 - val_loss: 0.9660\n",
            "Epoch 60/100\n",
            "3/3 [==============================] - 2s 723ms/step - loss: 1.3144 - val_loss: 0.9712\n",
            "Epoch 61/100\n",
            "3/3 [==============================] - 2s 765ms/step - loss: 1.3126 - val_loss: 0.9835\n",
            "Epoch 62/100\n",
            "3/3 [==============================] - 2s 768ms/step - loss: 1.3104 - val_loss: 0.9923\n",
            "Epoch 63/100\n",
            "3/3 [==============================] - 2s 759ms/step - loss: 1.3114 - val_loss: 0.9841\n",
            "Epoch 64/100\n",
            "3/3 [==============================] - 2s 775ms/step - loss: 1.3097 - val_loss: 0.9726\n",
            "Epoch 65/100\n",
            "3/3 [==============================] - 2s 729ms/step - loss: 1.3084 - val_loss: 0.9689\n",
            "Epoch 66/100\n",
            "3/3 [==============================] - 2s 725ms/step - loss: 1.3089 - val_loss: 0.9794\n",
            "Epoch 67/100\n",
            "3/3 [==============================] - 2s 778ms/step - loss: 1.3081 - val_loss: 0.9883\n",
            "Epoch 68/100\n",
            "3/3 [==============================] - 2s 763ms/step - loss: 1.3082 - val_loss: 0.9973\n",
            "Epoch 69/100\n",
            "3/3 [==============================] - 2s 765ms/step - loss: 1.3074 - val_loss: 0.9973\n",
            "Epoch 70/100\n",
            "3/3 [==============================] - 2s 762ms/step - loss: 1.3076 - val_loss: 0.9951\n",
            "Epoch 71/100\n",
            "3/3 [==============================] - 2s 763ms/step - loss: 1.3102 - val_loss: 0.9943\n",
            "Epoch 72/100\n",
            "3/3 [==============================] - 2s 768ms/step - loss: 1.3083 - val_loss: 0.9915\n",
            "Epoch 73/100\n",
            "3/3 [==============================] - 2s 738ms/step - loss: 1.3158 - val_loss: 0.9875\n",
            "Epoch 74/100\n",
            "3/3 [==============================] - 2s 774ms/step - loss: 1.3157 - val_loss: 0.9855\n",
            "Epoch 75/100\n",
            "3/3 [==============================] - 2s 774ms/step - loss: 1.3126 - val_loss: 0.9783\n",
            "Epoch 76/100\n",
            "3/3 [==============================] - 2s 761ms/step - loss: 1.3123 - val_loss: 0.9727\n",
            "Epoch 77/100\n",
            "3/3 [==============================] - 2s 765ms/step - loss: 1.3113 - val_loss: 0.9743\n",
            "Epoch 78/100\n",
            "3/3 [==============================] - 2s 766ms/step - loss: 1.3130 - val_loss: 0.9806\n",
            "Epoch 79/100\n",
            "3/3 [==============================] - 2s 767ms/step - loss: 1.3099 - val_loss: 0.9832\n",
            "Epoch 80/100\n",
            "3/3 [==============================] - 2s 763ms/step - loss: 1.3076 - val_loss: 0.9882\n",
            "Epoch 81/100\n",
            "3/3 [==============================] - 2s 767ms/step - loss: 1.3092 - val_loss: 0.9926\n",
            "Epoch 82/100\n",
            "3/3 [==============================] - 2s 775ms/step - loss: 1.3082 - val_loss: 0.9900\n",
            "Epoch 83/100\n",
            "3/3 [==============================] - 2s 762ms/step - loss: 1.3066 - val_loss: 0.9906\n",
            "Epoch 84/100\n",
            "3/3 [==============================] - 2s 774ms/step - loss: 1.3091 - val_loss: 0.9877\n",
            "Epoch 85/100\n",
            "3/3 [==============================] - 2s 760ms/step - loss: 1.3068 - val_loss: 0.9777\n",
            "Epoch 86/100\n",
            "3/3 [==============================] - 2s 767ms/step - loss: 1.3078 - val_loss: 0.9820\n",
            "Epoch 87/100\n",
            "3/3 [==============================] - 2s 764ms/step - loss: 1.3057 - val_loss: 0.9865\n",
            "Epoch 88/100\n",
            "3/3 [==============================] - 2s 767ms/step - loss: 1.3056 - val_loss: 0.9942\n",
            "Epoch 89/100\n",
            "3/3 [==============================] - 2s 767ms/step - loss: 1.3053 - val_loss: 0.9962\n",
            "Epoch 90/100\n",
            "3/3 [==============================] - 2s 765ms/step - loss: 1.3053 - val_loss: 0.9929\n",
            "Epoch 91/100\n",
            "3/3 [==============================] - 2s 731ms/step - loss: 1.3053 - val_loss: 0.9848\n",
            "Epoch 92/100\n",
            "3/3 [==============================] - 2s 765ms/step - loss: 1.3034 - val_loss: 0.9792\n",
            "Epoch 93/100\n",
            "3/3 [==============================] - 2s 763ms/step - loss: 1.3046 - val_loss: 0.9880\n",
            "Epoch 94/100\n",
            "3/3 [==============================] - 2s 728ms/step - loss: 1.3041 - val_loss: 1.0103\n",
            "Epoch 95/100\n",
            "3/3 [==============================] - 2s 726ms/step - loss: 1.3064 - val_loss: 1.0170\n",
            "Epoch 96/100\n",
            "3/3 [==============================] - 2s 786ms/step - loss: 1.3065 - val_loss: 1.0156\n",
            "Epoch 97/100\n",
            "3/3 [==============================] - 2s 770ms/step - loss: 1.3049 - val_loss: 1.0230\n",
            "Epoch 98/100\n",
            "3/3 [==============================] - 2s 772ms/step - loss: 1.3045 - val_loss: 1.0266\n",
            "Epoch 99/100\n",
            "3/3 [==============================] - 2s 771ms/step - loss: 1.3052 - val_loss: 1.0170\n",
            "Epoch 100/100\n",
            "3/3 [==============================] - 2s 767ms/step - loss: 1.3029 - val_loss: 1.0006\n"
          ]
        }
      ]
    },
    {
      "cell_type": "code",
      "metadata": {
        "colab": {
          "base_uri": "https://localhost:8080/",
          "height": 282
        },
        "id": "AYiqrnq7pVps",
        "outputId": "bf664cf9-6fe1-49c6-f33e-4fa1a53602af"
      },
      "source": [
        "plt.plot(history.history['loss'])\n",
        "plt.plot(history.history['val_loss'])"
      ],
      "execution_count": 13,
      "outputs": [
        {
          "output_type": "execute_result",
          "data": {
            "text/plain": [
              "[<matplotlib.lines.Line2D at 0x7fa980447110>]"
            ]
          },
          "metadata": {},
          "execution_count": 13
        },
        {
          "output_type": "display_data",
          "data": {
            "image/png": "[encoded data removed]",
            "text/plain": [
              "<Figure size 432x288 with 1 Axes>"
            ]
          },
          "metadata": {
            "needs_background": "light"
          }
        }
      ]
    },
    {
      "cell_type": "code",
      "metadata": {
        "colab": {
          "base_uri": "https://localhost:8080/"
        },
        "id": "yWtBxDELzdmv",
        "outputId": "54cddba6-616d-467f-dded-de1b26aaf0f5"
      },
      "source": [
        "pred = model.predict(x_train)\n",
        "pred.shape"
      ],
      "execution_count": 14,
      "outputs": [
        {
          "output_type": "stream",
          "name": "stderr",
          "text": [
            "/usr/local/lib/python3.7/dist-packages/tensorflow/python/data/ops/dataset_ops.py:4212: UserWarning: Even though the `tf.config.experimental_run_functions_eagerly` option is set, this option does not apply to tf.data functions. To force eager execution of tf.data functions, please use `tf.data.experimental.enable_debug_mode()`.\n",
            "  \"Even though the `tf.config.experimental_run_functions_eagerly` \"\n"
          ]
        },
        {
          "output_type": "execute_result",
          "data": {
            "text/plain": [
              "(23, 480, 480, 2)"
            ]
          },
          "metadata": {},
          "execution_count": 14
        }
      ]
    },
    {
      "cell_type": "code",
      "metadata": {
        "colab": {
          "base_uri": "https://localhost:8080/",
          "height": 286
        },
        "id": "qSirMACR0IL4",
        "outputId": "6aa78105-fd45-4d6b-87db-077aee79711a"
      },
      "source": [
        "plt.imshow(y[0, :, :, 0])"
      ],
      "execution_count": 15,
      "outputs": [
        {
          "output_type": "execute_result",
          "data": {
            "text/plain": [
              "<matplotlib.image.AxesImage at 0x7fa96eb34a90>"
            ]
          },
          "metadata": {},
          "execution_count": 15
        },
        {
          "output_type": "display_data",
          "data": {
            "image/png": "[encoded data removed]",
            "text/plain": [
              "<Figure size 432x288 with 1 Axes>"
            ]
          },
          "metadata": {
            "needs_background": "light"
          }
        }
      ]
    },
    {
      "cell_type": "code",
      "metadata": {
        "colab": {
          "base_uri": "https://localhost:8080/",
          "height": 286
        },
        "id": "4ozBb5U10Buv",
        "outputId": "f9be856d-cd41-4c8e-d81f-c8149e15c23b"
      },
      "source": [
        "plt.imshow(pred[0, :, :, 0])"
      ],
      "execution_count": 16,
      "outputs": [
        {
          "output_type": "execute_result",
          "data": {
            "text/plain": [
              "<matplotlib.image.AxesImage at 0x7fa96eb18bd0>"
            ]
          },
          "metadata": {},
          "execution_count": 16
        },
        {
          "output_type": "display_data",
          "data": {
            "image/png": "[encoded data removed]",
            "text/plain": [
              "<Figure size 432x288 with 1 Axes>"
            ]
          },
          "metadata": {
            "needs_background": "light"
          }
        }
      ]
    }
  ]
}